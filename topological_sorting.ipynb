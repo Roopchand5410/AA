{
  "nbformat": 4,
  "nbformat_minor": 0,
  "metadata": {
    "colab": {
      "provenance": [],
      "authorship_tag": "ABX9TyOGq5A3WqfijwFYDUHEBzWB",
      "include_colab_link": true
    },
    "kernelspec": {
      "name": "python3",
      "display_name": "Python 3"
    },
    "language_info": {
      "name": "python"
    }
  },
  "cells": [
    {
      "cell_type": "markdown",
      "metadata": {
        "id": "view-in-github",
        "colab_type": "text"
      },
      "source": [
        "<a href=\"https://colab.research.google.com/github/Roopchand5410/AA/blob/sorting/topological_sorting.ipynb\" target=\"_parent\"><img src=\"https://colab.research.google.com/assets/colab-badge.svg\" alt=\"Open In Colab\"/></a>"
      ]
    },
    {
      "cell_type": "code",
      "execution_count": null,
      "metadata": {
        "colab": {
          "base_uri": "https://localhost:8080/"
        },
        "id": "2GDcuB9L12nC",
        "outputId": "d079a2e2-3015-4ea6-953b-f01fba728b40"
      },
      "outputs": [
        {
          "output_type": "stream",
          "name": "stdout",
          "text": [
            "Topological sorting of the graph: 0 4 5 1 2 3 "
          ]
        }
      ],
      "source": [
        "from collections import deque\n",
        "\n",
        "def topological_sort(adj, V):\n",
        "    indegree = [0] * V\n",
        "\n",
        "    for i in range(V):\n",
        "        for vertex in adj[i]:\n",
        "            indegree[vertex] += 1\n",
        "\n",
        "    q = deque()\n",
        "\n",
        "    for i in range(V):\n",
        "        if indegree[i] == 0:\n",
        "            q.append(i)\n",
        "\n",
        "    result = []\n",
        "\n",
        "    while q:\n",
        "        node = q.popleft()\n",
        "        result.append(node)\n",
        "\n",
        "        for adjacent in adj[node]:\n",
        "            indegree[adjacent] -= 1\n",
        "            if indegree[adjacent] == 0:\n",
        "                q.append(adjacent)\n",
        "\n",
        "    if len(result) != V:\n",
        "        print(\"Graph contains a cycle!\")\n",
        "        return []\n",
        "\n",
        "    return result\n",
        "\n",
        "n = 6\n",
        "edges = [[0, 1], [1, 2], [2, 3], [4, 5], [5, 1], [5, 2]]\n",
        "adj = [[] for _ in range(n)]\n",
        "\n",
        "for edge in edges:\n",
        "    adj[edge[0]].append(edge[1])\n",
        "\n",
        "print(\"Topological sorting of the graph:\", end=\" \")\n",
        "result = topological_sort(adj, n)\n",
        "for vertex in result:\n",
        "    print(vertex, end=\" \")\n",
        "\n"
      ]
    }
  ]
}